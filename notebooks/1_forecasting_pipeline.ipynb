{
 "cells": [
  {
   "cell_type": "markdown",
   "id": "c7bc9daf",
   "metadata": {},
   "source": [
    "# Section 1: Project Introduction"
   ]
  },
  {
   "cell_type": "markdown",
   "id": "8b97f330",
   "metadata": {},
   "source": [
    "# Sales Forecasting Project\n",
    "#### This project forecasts sales using time series data from Rossmann stores. It includes data preprocessing, feature engineering, training an XGBoost model, and generating forecasts."
   ]
  },
  {
   "cell_type": "markdown",
   "id": "614d008d",
   "metadata": {},
   "source": [
    "# Section 2: Import and Preprocessing"
   ]
  },
  {
   "cell_type": "code",
   "execution_count": null,
   "id": "58532ce6",
   "metadata": {},
   "outputs": [],
   "source": [
    "import pandas as pd\n",
    "import numpy as np\n",
    "from sklearn.model_selection import train_test_split\n",
    "from xgboost import XGBRegressor\n",
    "from sklearn.metrics import mean_squared_error, r2_score\n",
    "import matplotlib.pyplot as plt\n",
    "import seaborn as sns\n",
    "import pickle"
   ]
  },
  {
   "cell_type": "code",
   "execution_count": null,
   "id": "bc8b6cea",
   "metadata": {},
   "outputs": [],
   "source": [
    "# Load and merge data\n",
    "train_df = pd.read_csv(\"../data/train.csv\")\n",
    "store_df = pd.read_csv(\"../data/store.csv\")\n",
    "df = pd.merge(train_df, store_df, on=\"Store\", how=\"left\")"
   ]
  },
  {
   "cell_type": "code",
   "execution_count": null,
   "id": "fd9bb048",
   "metadata": {},
   "outputs": [],
   "source": [
    "# Filter and preprocess\n",
    "df = df[(df[\"Open\"] != 0) & (df[\"Sales\"] > 0)]\n",
    "df[\"Date\"] = pd.to_datetime(df[\"Date\"])\n",
    "df[\"Month\"] = df[\"Date\"].dt.month\n",
    "df[\"Day\"] = df[\"Date\"].dt.day\n",
    "df[\"Year\"] = df[\"Date\"].dt.year\n",
    "df = df.drop(columns=[\"Date\", \"Customers\"])\n",
    "df = df.fillna(0)"
   ]
  },
  {
   "cell_type": "markdown",
   "id": "9d6ec6d5",
   "metadata": {},
   "source": [
    "# Section 3: Model Training"
   ]
  },
  {
   "cell_type": "code",
   "execution_count": null,
   "id": "b6b796f3",
   "metadata": {},
   "outputs": [],
   "source": [
    "# Train-test split\n",
    "X = df.drop(columns=[\"Sales\"])\n",
    "y = df[\"Sales\"]\n",
    "X_train, X_test, y_train, y_test = train_test_split(X, y, test_size=0.2, random_state=42)"
   ]
  },
  {
   "cell_type": "code",
   "execution_count": null,
   "id": "3d8a3c1f",
   "metadata": {},
   "outputs": [],
   "source": [
    "# Model training\n",
    "model = XGBRegressor(n_estimators=100, learning_rate=0.1, max_depth=6, random_state=42)\n",
    "model.fit(X_train, y_train)\n",
    "\n",
    "# Save model\n",
    "with open(\"../notebooks/final_xgboost_model.pkl\", \"wb\") as f:\n",
    "    pickle.dump(model, f)"
   ]
  },
  {
   "cell_type": "markdown",
   "id": "a6628847",
   "metadata": {},
   "source": [
    "# Section 4: Evaluation & Visualization"
   ]
  },
  {
   "cell_type": "code",
   "execution_count": null,
   "id": "b0ec9177",
   "metadata": {},
   "outputs": [],
   "source": [
    "# Prediction and Evaluation\n",
    "y_pred = model.predict(X_test)\n",
    "rmse = np.sqrt(mean_squared_error(y_test, y_pred))\n",
    "r2 = r2_score(y_test, y_pred)\n",
    "print(f\"RMSE: {rmse}\")\n",
    "print(f\"R^2: {r2}\")"
   ]
  },
  {
   "cell_type": "code",
   "execution_count": null,
   "id": "b4931524",
   "metadata": {},
   "outputs": [],
   "source": [
    "# Plot\n",
    "import matplotlib.pyplot as plt\n",
    "plt.figure(figsize=(10,6))\n",
    "plt.scatter(range(len(y_test)), y_test, label='Actual')\n",
    "plt.scatter(range(len(y_pred)), y_pred, label='Predicted', alpha=0.6)\n",
    "plt.title('Actual vs Predicted Sales')\n",
    "plt.legend()\n",
    "plt.show()"
   ]
  }
 ],
 "metadata": {
  "kernelspec": {
   "display_name": "Python (Sales Forecasting)",
   "language": "python",
   "name": "sales-forecasting-venv"
  },
  "language_info": {
   "codemirror_mode": {
    "name": "ipython",
    "version": 3
   },
   "file_extension": ".py",
   "mimetype": "text/x-python",
   "name": "python",
   "nbconvert_exporter": "python",
   "pygments_lexer": "ipython3",
   "version": "3.12.3"
  }
 },
 "nbformat": 4,
 "nbformat_minor": 5
}
