{
 "cells": [
  {
   "cell_type": "markdown",
   "id": "dad39688",
   "metadata": {},
   "source": [
    "# MLJAR AutoML Sales Forecasting Script"
   ]
  },
  {
   "cell_type": "code",
   "execution_count": null,
   "id": "bb35c098",
   "metadata": {},
   "outputs": [],
   "source": [
    "# ## 1. Import necessary packages\n",
    "from supervised.automl import AutoML\n",
    "from sklearn.metrics import mean_squared_error, r2_score\n",
    "import numpy as np\n",
    "import matplotlib.pyplot as plt\n",
    "import pandas as pd\n",
    "from sklearn.model_selection import train_test_split"
   ]
  },
  {
   "cell_type": "code",
   "execution_count": null,
   "id": "60688dc7",
   "metadata": {},
   "outputs": [],
   "source": [
    "# ## 2. Load trained model from outputs folder\n",
    "automl = AutoML(results_path=\"../outputs/AutoML_1\")"
   ]
  },
  {
   "cell_type": "code",
   "execution_count": null,
   "id": "1fb82db1",
   "metadata": {},
   "outputs": [],
   "source": [
    "# ## 3. Load and merge data\n",
    "train_df = pd.read_csv(\"../data/train.csv\")\n",
    "store_df = pd.read_csv(\"../data/store.csv\")\n",
    "df = pd.merge(train_df, store_df, on=\"Store\", how=\"left\")"
   ]
  },
  {
   "cell_type": "code",
   "execution_count": null,
   "id": "29e20c11",
   "metadata": {},
   "outputs": [],
   "source": [
    "# ## 4. Preprocessing\n",
    "df = df[(df[\"Open\"] != 0) & (df[\"Sales\"] > 0)]\n",
    "X = df.drop(columns=[\"Sales\", \"Date\", \"Customers\"])\n",
    "y = df[\"Sales\"]"
   ]
  },
  {
   "cell_type": "code",
   "execution_count": null,
   "id": "516fa189",
   "metadata": {},
   "outputs": [],
   "source": [
    "# ## 5. Train/test split\n",
    "X_train, X_test, y_train, y_test = train_test_split(X, y, test_size=0.2, random_state=42)"
   ]
  },
  {
   "cell_type": "code",
   "execution_count": null,
   "id": "6a5d5ab9",
   "metadata": {},
   "outputs": [],
   "source": [
    "# ## 6. Predict and evaluate\n",
    "y_pred = automl.predict(X_test)\n",
    "rmse = np.sqrt(mean_squared_error(y_test, y_pred))\n",
    "r2 = r2_score(y_test, y_pred)\n",
    "print(f\"RMSE: {rmse}\")\n",
    "print(f\"R² Score: {r2}\")"
   ]
  },
  {
   "cell_type": "code",
   "execution_count": null,
   "id": "f0359f45",
   "metadata": {},
   "outputs": [],
   "source": [
    "# ## 7. Plot predictions\n",
    "plt.figure(figsize=(10,6))\n",
    "plt.scatter(range(len(y_test)), y_test, label='Actual')\n",
    "plt.scatter(range(len(y_pred)), y_pred, label='Predicted', alpha=0.6)\n",
    "plt.title('Actual vs Predicted Sales')\n",
    "plt.legend()\n",
    "plt.show()"
   ]
  }
 ],
 "metadata": {
  "jupytext": {
   "cell_metadata_filter": "-all",
   "main_language": "python",
   "notebook_metadata_filter": "-all"
  },
  "kernelspec": {
   "display_name": "Python (Sales Forecasting)",
   "language": "python",
   "name": "sales-forecasting-venv"
  },
  "language_info": {
   "codemirror_mode": {
    "name": "ipython",
    "version": 3
   },
   "file_extension": ".py",
   "mimetype": "text/x-python",
   "name": "python",
   "nbconvert_exporter": "python",
   "pygments_lexer": "ipython3",
   "version": "3.12.3"
  }
 },
 "nbformat": 4,
 "nbformat_minor": 5
}
